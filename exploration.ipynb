{
 "cells": [
  {
   "cell_type": "code",
   "execution_count": null,
   "metadata": {},
   "outputs": [],
   "source": [
    "import matplotlib\n",
    "#matplotlib.use('Agg')\n",
    "\n",
    "import numpy as np\n",
    "import matplotlib.pyplot as plt\n",
    "import iris\n",
    "import iris.plot as iplt\n",
    "import iris.quickplot as qplt\n",
    "import glob\n",
    "import os\n",
    "\n",
    "import iris.analysis.cartography\n",
    "import matplotlib.dates as mdates\n",
    "\n",
    "from data_paths import load_cubes, filepath_dict\n",
    "\n",
    "%matplotlib inline"
   ]
  },
  {
   "cell_type": "code",
   "execution_count": null,
   "metadata": {},
   "outputs": [],
   "source": [
    "def bound_cube(cubes):\n",
    "    for c in cubes:\n",
    "        if not c.coord('latitude').has_bounds():\n",
    "            c.coord('latitude').guess_bounds()\n",
    "        if not c.coord('longitude').has_bounds():\n",
    "            c.coord('longitude').guess_bounds()\n",
    "        \n",
    "def timeseries_plot(cubes, labels, window=None):\n",
    "    fig, ax  = plt.subplots(1,1)\n",
    "    for label, c in zip(labels, cubes):\n",
    "        grid_areas = iris.analysis.cartography.area_weights(c)\n",
    "        mean = c.collapsed(['latitude', 'longitude'],\n",
    "                               iris.analysis.MEAN,\n",
    "                               weights=grid_areas)\n",
    "        if window is not None:\n",
    "            mean = mean.rolling_window('time', iris.analysis.MEAN, window)\n",
    "            \n",
    "        # Plot the datasets\n",
    "        iplt.plot(mean, label='{}'.format(label), lw=1.5, axes=ax)\n",
    "\n",
    "    # Add a legend and title\n",
    "    plt.legend(loc=\"best\")\n",
    "    #plt.title('Global mean air temperature', fontsize=18)\n",
    "\n",
    "    plt.xlabel('Time / year')\n",
    "\n",
    "    plt.grid()\n",
    "    return fig"
   ]
  },
  {
   "cell_type": "code",
   "execution_count": null,
   "metadata": {},
   "outputs": [],
   "source": [
    "rootpath = filepath_dict[0.25]\n",
    "rootpath"
   ]
  },
  {
   "cell_type": "code",
   "execution_count": null,
   "metadata": {},
   "outputs": [],
   "source": [
    "temp_cubes = load_cubes([0, 0.25, 0.5, 1, 2], subfile='annual', variable = \"air_temperature\")\n",
    "temp_labels = [0, 0.25, 0.5, 1.0, 2.0]"
   ]
  },
  {
   "cell_type": "code",
   "execution_count": null,
   "metadata": {},
   "outputs": [],
   "source": [
    "bound_cube(temp_cubes)"
   ]
  },
  {
   "cell_type": "code",
   "execution_count": null,
   "metadata": {},
   "outputs": [],
   "source": [
    "temp_cubes"
   ]
  },
  {
   "cell_type": "code",
   "execution_count": null,
   "metadata": {},
   "outputs": [],
   "source": [
    "timeseries_plot(temp_cubes, temp_labels, window=None)\n",
    "plt.ylabel('Area weighted Air temp (K)')\n",
    "plt.show()"
   ]
  },
  {
   "cell_type": "code",
   "execution_count": null,
   "metadata": {},
   "outputs": [],
   "source": [
    "resp_flux_cubes = load_cubes([0,0.25,0.5,1,2], subfile='annual', variable = \"soil_respiration_carbon_flux\")\n",
    "resp_flux_labels = [0,0.25, 0.5, 1.0, 2.0]"
   ]
  },
  {
   "cell_type": "code",
   "execution_count": null,
   "metadata": {},
   "outputs": [],
   "source": [
    "bound_cube(resp_flux_cubes)"
   ]
  },
  {
   "cell_type": "code",
   "execution_count": null,
   "metadata": {},
   "outputs": [],
   "source": [
    "timeseries_plot(resp_flux_cubes, resp_flux_labels, window=None)\n",
    "plt.ylabel('Area weighted soil carbon flux')\n",
    "plt.show()"
   ]
  },
  {
   "cell_type": "code",
   "execution_count": null,
   "metadata": {},
   "outputs": [],
   "source": [
    "soil_carbon_cubes = load_cubes([0,0.25,0.5,1,2], subfile='annual', variable = \"soil_carbon_content\")\n",
    "soil_carbon_labels = [0,0.25, 0.5, 1.0, 2.0]"
   ]
  },
  {
   "cell_type": "code",
   "execution_count": null,
   "metadata": {},
   "outputs": [],
   "source": [
    "bound_cube(soil_carbon_cubes)"
   ]
  },
  {
   "cell_type": "code",
   "execution_count": null,
   "metadata": {},
   "outputs": [],
   "source": [
    "timeseries_plot(soil_carbon_cubes, soil_carbon_labels, window=None)\n",
    "plt.ylabel('Area weighted total soil carbon')\n",
    "plt.show()"
   ]
  },
  {
   "cell_type": "code",
   "execution_count": null,
   "metadata": {},
   "outputs": [],
   "source": [
    "soil_temp_cubes = load_cubes([0,0.25,0.5,1,2], subfile='annual', variable = \"soil_temperature\")\n",
    "soil_temp_labels = [0,0.25, 0.5, 1.0, 2.0]"
   ]
  },
  {
   "cell_type": "code",
   "execution_count": null,
   "metadata": {},
   "outputs": [],
   "source": [
    "bound_cube(soil_temp_cubes)"
   ]
  },
  {
   "cell_type": "code",
   "execution_count": null,
   "metadata": {},
   "outputs": [],
   "source": [
    "timeseries_plot([s[:,3] for s in soil_temp_cubes], soil_temp_labels, window=None)\n",
    "plt.ylabel('Area weighted deep soil temp (K)')\n",
    "plt.show()"
   ]
  },
  {
   "cell_type": "code",
   "execution_count": null,
   "metadata": {},
   "outputs": [],
   "source": [
    "soil_moist_cubes = load_cubes([0,0.25,0.5,1,2], subfile='annual', variable = \"soil_moisture_content\")\n",
    "soil_moist_labels = [0,0.25, 0.5, 1.0, 2.0]"
   ]
  },
  {
   "cell_type": "code",
   "execution_count": null,
   "metadata": {},
   "outputs": [],
   "source": [
    "bound_cube(soil_moist_cubes)"
   ]
  },
  {
   "cell_type": "code",
   "execution_count": null,
   "metadata": {},
   "outputs": [],
   "source": [
    "timeseries_plot(soil_moist_cubes, soil_moist_labels, window=None)\n",
    "plt.ylabel('Area weighted Soil Moisture')\n",
    "plt.show()"
   ]
  },
  {
   "cell_type": "code",
   "execution_count": null,
   "metadata": {},
   "outputs": [],
   "source": [
    "ice_cubes = load_cubes([0,0.25,0.5,1,2], subfile='annual', variable = \"surface_snow_thickness\")\n",
    "ice_labels = [0,0.25, 0.5, 1.0, 2.0]"
   ]
  },
  {
   "cell_type": "code",
   "execution_count": null,
   "metadata": {},
   "outputs": [],
   "source": [
    "ice_cubes[0]"
   ]
  },
  {
   "cell_type": "code",
   "execution_count": null,
   "metadata": {},
   "outputs": [],
   "source": [
    "bound_cube(ice_cubes)"
   ]
  },
  {
   "cell_type": "code",
   "execution_count": null,
   "metadata": {},
   "outputs": [],
   "source": [
    "timeseries_plot(ice_cubes, ice_labels, window=None)\n",
    "plt.ylabel('Area weighted surface snow thickness')\n",
    "plt.show()"
   ]
  },
  {
   "cell_type": "code",
   "execution_count": null,
   "metadata": {},
   "outputs": [],
   "source": [
    "co2_air_cubes = load_cubes([0,0.25,0.5,1,2], subfile='annual', variable = \"mass_fraction_of_carbon_dioxide_in_air\")\n",
    "co2_air_labels = [0,0.25, 0.5, 1.0, 2.0]"
   ]
  },
  {
   "cell_type": "code",
   "execution_count": null,
   "metadata": {},
   "outputs": [],
   "source": [
    "co2_air_cubes[0].um"
   ]
  },
  {
   "cell_type": "code",
   "execution_count": null,
   "metadata": {},
   "outputs": [],
   "source": []
  }
 ],
 "metadata": {
  "kernelspec": {
   "display_name": "Python 2",
   "language": "python",
   "name": "python2"
  },
  "language_info": {
   "codemirror_mode": {
    "name": "ipython",
    "version": 2
   },
   "file_extension": ".py",
   "mimetype": "text/x-python",
   "name": "python",
   "nbconvert_exporter": "python",
   "pygments_lexer": "ipython2",
   "version": "2.7.10"
  }
 },
 "nbformat": 4,
 "nbformat_minor": 1
}
