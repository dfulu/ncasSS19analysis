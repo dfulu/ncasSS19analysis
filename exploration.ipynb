{
 "cells": [
  {
   "cell_type": "code",
   "execution_count": null,
   "metadata": {},
   "outputs": [],
   "source": [
    "import matplotlib\n",
    "#matplotlib.use('Agg')\n",
    "\n",
    "import numpy as np\n",
    "import matplotlib.pyplot as plt\n",
    "import iris\n",
    "import iris.plot as iplt\n",
    "import iris.quickplot as qplt\n",
    "\n",
    "import iris.analysis.cartography\n",
    "import matplotlib.dates as mdates\n",
    "import os\n",
    "\n",
    "%matplotlib inline"
   ]
  },
  {
   "cell_type": "code",
   "execution_count": null,
   "metadata": {},
   "outputs": [],
   "source": [
    "control_run_file = \"/jasmin/users/bakera/CMSS17/ctl/\""
   ]
  },
  {
   "cell_type": "code",
   "execution_count": null,
   "metadata": {},
   "outputs": [],
   "source": [
    "!ls /jasmin/users/bakera/CMSS17/ctl/"
   ]
  },
  {
   "cell_type": "code",
   "execution_count": null,
   "metadata": {},
   "outputs": [],
   "source": [
    "!ls /jasmin/users/bakera/CMSS17/ctl/seasonal"
   ]
  },
  {
   "cell_type": "code",
   "execution_count": null,
   "metadata": {},
   "outputs": [],
   "source": [
    "!ls /jasmin/users/bakera/CMSS17/ctl/seasonal/air_temperature/xmrai"
   ]
  },
  {
   "cell_type": "code",
   "execution_count": null,
   "metadata": {},
   "outputs": [],
   "source": [
    "subfile = \"seasonal\"\n",
    "variable_of_interest = \"air_temperature/xmrai/xmraia.ps.*\"\n",
    "fullpath = os.path.join(control_run_file, subfile, variable_of_interest)"
   ]
  },
  {
   "cell_type": "code",
   "execution_count": null,
   "metadata": {},
   "outputs": [],
   "source": [
    "fullpath"
   ]
  },
  {
   "cell_type": "code",
   "execution_count": null,
   "metadata": {},
   "outputs": [],
   "source": [
    "cubes = iris.load(fullpath)"
   ]
  },
  {
   "cell_type": "code",
   "execution_count": null,
   "metadata": {},
   "outputs": [],
   "source": [
    "cubes"
   ]
  },
  {
   "cell_type": "code",
   "execution_count": null,
   "metadata": {},
   "outputs": [],
   "source": [
    "cube = cubes.concatenate()[0]"
   ]
  },
  {
   "cell_type": "code",
   "execution_count": null,
   "metadata": {},
   "outputs": [],
   "source": [
    "cube.coord('latitude').guess_bounds()\n",
    "cube.coord('longitude').guess_bounds()"
   ]
  },
  {
   "cell_type": "code",
   "execution_count": null,
   "metadata": {},
   "outputs": [],
   "source": [
    "grid_areas = iris.analysis.cartography.area_weights(cube)"
   ]
  },
  {
   "cell_type": "code",
   "execution_count": null,
   "metadata": {},
   "outputs": [],
   "source": [
    "mean = cube.collapsed(['latitude', 'longitude'],\n",
    "                       iris.analysis.MEAN,\n",
    "                       weights=grid_areas)"
   ]
  },
  {
   "cell_type": "code",
   "execution_count": null,
   "metadata": {},
   "outputs": [],
   "source": [
    "mean.data.data"
   ]
  },
  {
   "cell_type": "code",
   "execution_count": null,
   "metadata": {},
   "outputs": [],
   "source": []
  },
  {
   "cell_type": "code",
   "execution_count": null,
   "metadata": {},
   "outputs": [],
   "source": [
    "plt.plot(mean.data.data)\n",
    "plt.show()"
   ]
  },
  {
   "cell_type": "code",
   "execution_count": null,
   "metadata": {},
   "outputs": [],
   "source": []
  },
  {
   "cell_type": "code",
   "execution_count": null,
   "metadata": {},
   "outputs": [],
   "source": [
    "qplt.plot(mean, label='control mean gobal temp', lw=1.5, color='blue')"
   ]
  },
  {
   "cell_type": "code",
   "execution_count": null,
   "metadata": {},
   "outputs": [],
   "source": [
    "# Show ticks 30 years apart\n",
    "#plt.gca().xaxis.set_major_locator(mdates.YearLocator(30))\n",
    "\n",
    "# Plot the datasets\n",
    "iplt.plot(mean, label='control mean gobal temp', lw=1.5, color='blue')\n",
    "\n",
    "# Add a legend and title\n",
    "plt.legend(loc=\"upper left\")\n",
    "plt.title('Global mean air temperature', fontsize=18)\n",
    "\n",
    "plt.xlabel('Time / year')\n",
    "\n",
    "plt.grid()\n"
   ]
  },
  {
   "cell_type": "code",
   "execution_count": null,
   "metadata": {},
   "outputs": [],
   "source": [
    "def main():\n",
    "    # Load data into three Cubes, one for each set of NetCDF files.\n",
    "    e1 = iris.load_cube(iris.sample_data_path('E1_north_america.nc'))\n",
    "\n",
    "    a1b = iris.load_cube(iris.sample_data_path('A1B_north_america.nc'))\n",
    "\n",
    "    # load in the global pre-industrial mean temperature, and limit the domain\n",
    "    # to the same North American region that e1 and a1b are at.\n",
    "    north_america = iris.Constraint(longitude=lambda v: 225 <= v <= 315,\n",
    "                                    latitude=lambda v: 15 <= v <= 60)\n",
    "    pre_industrial = iris.load_cube(iris.sample_data_path('pre-industrial.pp'),\n",
    "                                    north_america)\n",
    "\n",
    "    # Generate area-weights array. As e1 and a1b are on the same grid we can\n",
    "    # do this just once and re-use. This method requires bounds on lat/lon\n",
    "    # coords, so let's add some in sensible locations using the \"guess_bounds\"\n",
    "    # method.\n",
    "    e1.coord('latitude').guess_bounds()\n",
    "    e1.coord('longitude').guess_bounds()\n",
    "    e1_grid_areas = iris.analysis.cartography.area_weights(e1)\n",
    "    pre_industrial.coord('latitude').guess_bounds()\n",
    "    pre_industrial.coord('longitude').guess_bounds()\n",
    "    pre_grid_areas = iris.analysis.cartography.area_weights(pre_industrial)\n",
    "\n",
    "    # Perform the area-weighted mean for each of the datasets using the\n",
    "    # computed grid-box areas.\n",
    "    pre_industrial_mean = pre_industrial.collapsed(['latitude', 'longitude'],\n",
    "                                                   iris.analysis.MEAN,\n",
    "                                                   weights=pre_grid_areas)\n",
    "    e1_mean = e1.collapsed(['latitude', 'longitude'],\n",
    "                           iris.analysis.MEAN,\n",
    "                           weights=e1_grid_areas)\n",
    "    a1b_mean = a1b.collapsed(['latitude', 'longitude'],\n",
    "                             iris.analysis.MEAN,\n",
    "                             weights=e1_grid_areas)\n",
    "\n",
    "    # Show ticks 30 years apart\n",
    "    plt.gca().xaxis.set_major_locator(mdates.YearLocator(30))\n",
    "\n",
    "    # Plot the datasets\n",
    "    qplt.plot(e1_mean, label='E1 scenario', lw=1.5, color='blue')\n",
    "    qplt.plot(a1b_mean, label='A1B-Image scenario', lw=1.5, color='red')\n",
    "\n",
    "    # Draw a horizontal line showing the pre-industrial mean\n",
    "    plt.axhline(y=pre_industrial_mean.data, color='gray', linestyle='dashed',\n",
    "                label='pre-industrial', lw=1.5)\n",
    "\n",
    "    # Establish where r and t have the same data, i.e. the observations\n",
    "    observed = a1b_mean[:np.argmin(np.isclose(a1b_mean.data, e1_mean.data))]\n",
    "\n",
    "    # Plot the observed data\n",
    "    qplt.plot(observed, label='observed', color='black', lw=1.5)\n",
    "\n",
    "    # Add a legend and title\n",
    "    plt.legend(loc=\"upper left\")\n",
    "    plt.title('North American mean air temperature', fontsize=18)\n",
    "\n",
    "    plt.xlabel('Time / year')\n",
    "\n",
    "    plt.grid()\n",
    "\n",
    "    iplt.show()"
   ]
  }
 ],
 "metadata": {
  "kernelspec": {
   "display_name": "Python 2",
   "language": "python",
   "name": "python2"
  },
  "language_info": {
   "codemirror_mode": {
    "name": "ipython",
    "version": 2
   },
   "file_extension": ".py",
   "mimetype": "text/x-python",
   "name": "python",
   "nbconvert_exporter": "python",
   "pygments_lexer": "ipython2",
   "version": "2.7.10"
  }
 },
 "nbformat": 4,
 "nbformat_minor": 0
}
